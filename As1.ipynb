{
  "nbformat": 4,
  "nbformat_minor": 0,
  "metadata": {
    "colab": {
      "name": "As1.ipynb",
      "provenance": [],
      "authorship_tag": "ABX9TyObJKl6s9AlBaDjrkaZ8Cma",
      "include_colab_link": true
    },
    "kernelspec": {
      "name": "python3",
      "display_name": "Python 3"
    },
    "language_info": {
      "name": "python"
    }
  },
  "cells": [
    {
      "cell_type": "markdown",
      "metadata": {
        "id": "view-in-github",
        "colab_type": "text"
      },
      "source": [
        "<a href=\"https://colab.research.google.com/github/Akashiith/Assignment1/blob/main/As1.ipynb\" target=\"_parent\"><img src=\"https://colab.research.google.com/assets/colab-badge.svg\" alt=\"Open In Colab\"/></a>"
      ]
    },
    {
      "cell_type": "code",
      "metadata": {
        "colab": {
          "base_uri": "https://localhost:8080/"
        },
        "id": "I6KhgDjRav48",
        "outputId": "03a9f751-4066-4b4b-80e5-4f022428b933"
      },
      "source": [
        "import numpy as np\n",
        "  \n",
        "a=np.array([5,3]) \n",
        "b=np.array([5,-1]) \n",
        "c=np.array([-7,-6]) \n",
        "\n",
        "AB=np.linalg.norm(b-a)\n",
        "BC=np.linalg.norm(c-b)\n",
        "CA=np.linalg.norm(a-c)\n",
        "\n",
        "in_centre = (a*BC+b*CA+c*AB)/(AB+BC+CA)\n",
        "\n",
        "print(\"The incentre of triangle is\", in_centre)"
      ],
      "execution_count": null,
      "outputs": [
        {
          "output_type": "stream",
          "name": "stdout",
          "text": [
            "The incentre of triangle is [3.5 0. ]\n"
          ]
        }
      ]
    }
  ]
}