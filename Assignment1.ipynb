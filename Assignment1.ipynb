{
  "nbformat": 4,
  "nbformat_minor": 0,
  "metadata": {
    "colab": {
      "name": "Assignment1.ipynb",
      "provenance": [],
      "authorship_tag": "ABX9TyMrV39IEsEwP88dUL3YfiCU"
    },
    "kernelspec": {
      "name": "python3",
      "display_name": "Python 3"
    },
    "language_info": {
      "name": "python"
    }
  },
  "cells": [
    {
      "cell_type": "code",
      "metadata": {
        "colab": {
          "base_uri": "https://localhost:8080/"
        },
        "id": "rIGQYGYFOuxD",
        "outputId": "e3b09af7-240a-4a77-9be9-4166a157cd4b"
      },
      "source": [
        "#Python code to find in-centre of a triangle\n",
        "import numpy as np \n",
        "\n",
        "a=np.array([5,3])\n",
        "b=np.array([5,-1])\n",
        "c=np.array([-7,-6])\n",
        "\n",
        "ab=np.linalg.norm(b-a)\n",
        "bc=np.linalg.norm(c-b)\n",
        "ac=np.linalg.norm(a-c)\n",
        "\n",
        "in_centre=((ab*c+bc*a+ac*b)/(ab+bc+ac))\n",
        "\n",
        "print(\"The in-centre for given triangle is\",in_centre)"
      ],
      "execution_count": 4,
      "outputs": [
        {
          "output_type": "stream",
          "name": "stdout",
          "text": [
            "The in-centre for given triangle is [3.5 0. ]\n"
          ]
        }
      ]
    }
  ]
}