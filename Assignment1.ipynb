{
  "nbformat": 4,
  "nbformat_minor": 0,
  "metadata": {
    "colab": {
      "name": "Assignment1.ipynb",
      "provenance": [],
      "collapsed_sections": [],
      "authorship_tag": "ABX9TyPt0ZNsfzPepMu+LCXyX/w1"
    },
    "kernelspec": {
      "name": "python3",
      "display_name": "Python 3"
    },
    "language_info": {
      "name": "python"
    }
  },
  "cells": [
    {
      "cell_type": "code",
      "metadata": {
        "colab": {
          "base_uri": "https://localhost:8080/"
        },
        "id": "5YIEDk1p9jZ_",
        "outputId": "dc0d7cc6-c65c-4ab6-9d5c-69caefaa99f8"
      },
      "source": [
        "# Python program to find the incenter of a triangle\n",
        "\n",
        "# coordinate of the vertices of a triangle\n",
        "x1 = 5; x2 = 5; x3 = -7\n",
        "y1 = 3; y2 = -1; y3 = -6\n",
        "a = 13; b = 15; c = 4\n",
        " \n",
        "# Formula to calculate in-center\n",
        "x = (a * x1 + b * x2 + c * x3) / (a + b + c)\n",
        "y = (a * y1 + b * y2 + c * y3) / (a + b + c)\n",
        " \n",
        "#printing answer\n",
        "print(\"Incenter = (\", x, \",\", y, \")\")\n",
        " "
      ],
      "execution_count": 1,
      "outputs": [
        {
          "output_type": "stream",
          "name": "stdout",
          "text": [
            "Incenter = ( 3.5 , 0.0 )\n"
          ]
        }
      ]
    }
  ]
}