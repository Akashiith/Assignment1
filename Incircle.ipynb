{
  "nbformat": 4,
  "nbformat_minor": 0,
  "metadata": {
    "colab": {
      "name": "Incircle.ipynb",
      "provenance": [],
      "collapsed_sections": [],
      "authorship_tag": "ABX9TyPiWHWi2aumd5ugFUUoERAv",
      "include_colab_link": true
    },
    "kernelspec": {
      "name": "python3",
      "display_name": "Python 3"
    },
    "language_info": {
      "name": "python"
    }
  },
  "cells": [
    {
      "cell_type": "markdown",
      "metadata": {
        "id": "view-in-github",
        "colab_type": "text"
      },
      "source": [
        "<a href=\"https://colab.research.google.com/github/Akashiith/Assignment1/blob/main/Incircle.ipynb\" target=\"_parent\"><img src=\"https://colab.research.google.com/assets/colab-badge.svg\" alt=\"Open In Colab\"/></a>"
      ]
    },
    {
      "cell_type": "code",
      "metadata": {
        "colab": {
          "base_uri": "https://localhost:8080/",
          "height": 297
        },
        "id": "h-ispHLDmDDS",
        "outputId": "085bebe1-869e-407d-eaca-5085746eb6c5"
      },
      "source": [
        "import matplotlib.pyplot as plt\n",
        "figure, axes = plt.subplots()\n",
        "axes.set_aspect( 5 )\n",
        "#AB\n",
        "x1 = [5,5]\n",
        "y1 = [3,-1]\n",
        "#plotting\n",
        "plt.plot(x1, y1,color='blue', label = 'AB', linewidth=2)\n",
        "#BC\n",
        "x2 = [5,-7]\n",
        "y2 = [-1,-6]\n",
        "#plotting\n",
        "\n",
        "plt.plot(x2,y2,color='red',label ='BC' ,linewidth=2)\n",
        "#CA\n",
        "x3 = [-7,5]\n",
        "y3 = [-6,3]\n",
        "#plotting\n",
        "plt.plot(x3,y3,color='green',label = 'CA' ,linewidth=2)\n",
        "plt.Circle((3.5,0),2)\n",
        "plt.legend()\n",
        "plt.annotate('A', (5,3))\n",
        "plt.annotate('B', (5,-1))\n",
        "plt.annotate('C',(-7,-6))\n",
        "\n",
        "plt.ylabel('$y-axis$')\n",
        "plt.xlabel('$x-axis$')\n",
        "plt.grid()\n",
        "plt.axis('equal')\n",
        "plt.savefig('incircle.png', dpi=200)\n",
        "\n",
        "Drawing_uncolored_circle = plt.Circle( (3.5, 0 ),1.5,fill = False )\n",
        " \n",
        "axes.add_artist( Drawing_uncolored_circle )\n",
        "plt.title( 'In-Circle' )\n",
        "plt.show()\n",
        "\n",
        " "
      ],
      "execution_count": 1,
      "outputs": [
        {
          "output_type": "display_data",
          "data": {
            "image/png": "[encoded data removed]",
            "text/plain": [
              "<Figure size 432x288 with 1 Axes>"
            ]
          },
          "metadata": {
            "needs_background": "light"
          }
        }
      ]
    }
  ]
}